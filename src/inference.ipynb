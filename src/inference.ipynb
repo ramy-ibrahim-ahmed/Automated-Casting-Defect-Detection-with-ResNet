{
 "cells": [
  {
   "cell_type": "code",
   "execution_count": 1,
   "id": "c3936f47",
   "metadata": {
    "execution": {
     "iopub.execute_input": "2024-12-15T17:53:41.794135Z",
     "iopub.status.busy": "2024-12-15T17:53:41.793242Z",
     "iopub.status.idle": "2024-12-15T17:53:42.756022Z",
     "shell.execute_reply": "2024-12-15T17:53:42.755108Z"
    },
    "papermill": {
     "duration": 0.970179,
     "end_time": "2024-12-15T17:53:42.758552",
     "exception": false,
     "start_time": "2024-12-15T17:53:41.788373",
     "status": "completed"
    },
    "tags": []
   },
   "outputs": [
    {
     "data": {
      "text/plain": [
       "<All keys matched successfully>"
      ]
     },
     "execution_count": 1,
     "metadata": {},
     "output_type": "execute_result"
    }
   ],
   "source": [
    "import torch\n",
    "from ResNet.ResNet import ResNet18\n",
    "\n",
    "device = torch.device(\"cuda\" if torch.cuda.is_available() else \"cpu\")\n",
    "resnet18 = ResNet18(out_neurons=1).to(device)\n",
    "resnet18.load_state_dict(\n",
    "    torch.load(\n",
    "        r\"..\\results\\ResNet-18\\best_net.pth\",\n",
    "        map_location=device,\n",
    "        weights_only=True,\n",
    "    )\n",
    ")"
   ]
  },
  {
   "cell_type": "code",
   "execution_count": 2,
   "id": "563c17a0",
   "metadata": {
    "execution": {
     "iopub.execute_input": "2024-12-15T17:53:11.825914Z",
     "iopub.status.busy": "2024-12-15T17:53:11.825580Z",
     "iopub.status.idle": "2024-12-15T17:53:41.781748Z",
     "shell.execute_reply": "2024-12-15T17:53:41.780646Z"
    },
    "papermill": {
     "duration": 29.963913,
     "end_time": "2024-12-15T17:53:41.784515",
     "exception": false,
     "start_time": "2024-12-15T17:53:11.820602",
     "status": "completed"
    },
    "tags": []
   },
   "outputs": [
    {
     "name": "stdout",
     "output_type": "stream",
     "text": [
      "[0.5642121434211731, 0.5642121434211731, 0.5642121434211731]\n",
      "\n",
      "[0.23441407084465027, 0.23441407084465027, 0.23441407084465027]\n"
     ]
    }
   ],
   "source": [
    "from ResNet.dataloader import data_loader\n",
    "\n",
    "data_dir = r\"../data\"\n",
    "device = torch.device(\"cuda\" if torch.cuda.is_available() else \"cpu\")\n",
    "\n",
    "out_neurons = 1\n",
    "num_epochs = 100\n",
    "batch_size = 64\n",
    "learning_rate = 0.0001\n",
    "patience = 9\n",
    "\n",
    "_, _, mean, std = data_loader(\n",
    "    data_dir=data_dir,\n",
    "    batch_size=batch_size,\n",
    "    num_workers=4,\n",
    "    pin_memory=True,\n",
    ")\n",
    "print(mean)\n",
    "print()\n",
    "print(std)"
   ]
  },
  {
   "cell_type": "code",
   "execution_count": 3,
   "id": "da4bd11d",
   "metadata": {},
   "outputs": [],
   "source": [
    "from torchvision import transforms\n",
    "from PIL import Image\n",
    "\n",
    "\n",
    "def predict(model, image_path, device=\"cpu\", img_shape=(224, 224), threshold=0.1):\n",
    "    image = Image.open(image_path).convert(\"RGB\")\n",
    "\n",
    "    transform = transforms.Compose(\n",
    "        [\n",
    "            transforms.Resize(img_shape),\n",
    "            transforms.ToTensor(),\n",
    "            transforms.Normalize(\n",
    "                mean=[0.5642121434211731, 0.5642121434211731, 0.5642121434211731],\n",
    "                std=[0.23441407084465027, 0.23441407084465027, 0.23441407084465027],\n",
    "            ),\n",
    "        ]\n",
    "    )\n",
    "\n",
    "    image = transform(image).unsqueeze(0)\n",
    "    image = image.to(device)\n",
    "\n",
    "    model.eval()\n",
    "    with torch.no_grad():\n",
    "        outputs = model(image)\n",
    "        probabilities = torch.sigmoid(outputs)\n",
    "        predicted = (probabilities > threshold).int()\n",
    "\n",
    "    if predicted[0][0] == 1:\n",
    "        return \"Defective\", round(float(probabilities[0][0]), 2) * 100\n",
    "\n",
    "    return \"Non-Defective\", round(1 - float(probabilities[0][0]), 2) * 100"
   ]
  },
  {
   "cell_type": "code",
   "execution_count": 5,
   "id": "c3a06513",
   "metadata": {},
   "outputs": [
    {
     "name": "stdout",
     "output_type": "stream",
     "text": [
      "Predicted class: Defective -> %100.0\n"
     ]
    }
   ],
   "source": [
    "image_path_def = r'..\\data\\train\\def_front\\cast_def_0_2.jpeg'\n",
    "image_path_ok = r'..\\data\\train\\ok_front\\cast_ok_0_9.jpeg'\n",
    "prediction, propability = predict(resnet18, image_path_def)\n",
    "print(f\"Predicted class: {prediction} -> %{propability}\")"
   ]
  }
 ],
 "metadata": {
  "kaggle": {
   "accelerator": "gpu",
   "dataSources": [
    {
     "datasetId": 487456,
     "sourceId": 1300891,
     "sourceType": "datasetVersion"
    }
   ],
   "dockerImageVersionId": 30804,
   "isGpuEnabled": true,
   "isInternetEnabled": true,
   "language": "python",
   "sourceType": "notebook"
  },
  "kernelspec": {
   "display_name": ".venv",
   "language": "python",
   "name": "python3"
  },
  "language_info": {
   "codemirror_mode": {
    "name": "ipython",
    "version": 3
   },
   "file_extension": ".py",
   "mimetype": "text/x-python",
   "name": "python",
   "nbconvert_exporter": "python",
   "pygments_lexer": "ipython3",
   "version": "3.11.4"
  },
  "papermill": {
   "default_parameters": {},
   "duration": 3806.269016,
   "end_time": "2024-12-15T18:56:19.436467",
   "environment_variables": {},
   "exception": null,
   "input_path": "__notebook__.ipynb",
   "output_path": "__notebook__.ipynb",
   "parameters": {},
   "start_time": "2024-12-15T17:52:53.167451",
   "version": "2.6.0"
  }
 },
 "nbformat": 4,
 "nbformat_minor": 5
}
