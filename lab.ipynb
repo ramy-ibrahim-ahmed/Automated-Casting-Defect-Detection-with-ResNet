{
 "cells": [
  {
   "cell_type": "code",
   "execution_count": null,
   "metadata": {
    "execution": {
     "iopub.execute_input": "2024-12-07T03:25:37.320506Z",
     "iopub.status.busy": "2024-12-07T03:25:37.319998Z",
     "iopub.status.idle": "2024-12-07T03:25:54.622569Z",
     "shell.execute_reply": "2024-12-07T03:25:54.621821Z",
     "shell.execute_reply.started": "2024-12-07T03:25:37.320454Z"
    },
    "trusted": true
   },
   "outputs": [],
   "source": [
    "import torch\n",
    "from dataloader import data_loader\n",
    "import torch.nn as nn\n",
    "from torchsummary import summary\n",
    "from ResNet import ResNet\n",
    "from train import train\n",
    "from evaluate import evaluate"
   ]
  },
  {
   "cell_type": "code",
   "execution_count": null,
   "metadata": {},
   "outputs": [],
   "source": [
    "train_loader, valid_loader = data_loader(\n",
    "    data_dir=r\"./data\",\n",
    "    batch_size=64,\n",
    "    num_workers=4,\n",
    "    pin_memory=True,\n",
    ")\n",
    "test_loader = data_loader(\n",
    "    data_dir=r\"./data\",\n",
    "    batch_size=64,\n",
    "    test=True,\n",
    "    num_workers=4,\n",
    "    pin_memory=True,\n",
    ")"
   ]
  },
  {
   "cell_type": "code",
   "execution_count": null,
   "metadata": {
    "execution": {
     "iopub.execute_input": "2024-12-07T03:26:04.554833Z",
     "iopub.status.busy": "2024-12-07T03:26:04.554453Z",
     "iopub.status.idle": "2024-12-07T03:26:06.288024Z",
     "shell.execute_reply": "2024-12-07T03:26:06.287120Z",
     "shell.execute_reply.started": "2024-12-07T03:26:04.554794Z"
    },
    "trusted": true
   },
   "outputs": [],
   "source": [
    "out_neurons = 1\n",
    "num_epochs = 100\n",
    "batch_size = 16\n",
    "learning_rate = 0.001\n",
    "patience = 5\n",
    "\n",
    "device = torch.device(\"cuda\" if torch.cuda.is_available() else \"cpu\")\n",
    "# model = ResNet(layers=[3, 4, 6, 3]).to(device)\n",
    "model = ResNet(layers=[2, 2, 2, 2], out_neurons=out_neurons).to(device)\n",
    "\n",
    "criterion = nn.BCEWithLogitsLoss()\n",
    "optimizer = torch.optim.SGD(\n",
    "    model.parameters(),\n",
    "    lr=learning_rate,\n",
    "    weight_decay=0.001,\n",
    "    momentum=0.9,\n",
    ")\n",
    "\n",
    "total_step = len(train_loader)\n",
    "\n",
    "summary(\n",
    "    model,\n",
    "    input_size=(3, 224, 224),\n",
    "    device=\"cuda\" if torch.cuda.is_available() else \"cpu\",\n",
    ")"
   ]
  },
  {
   "cell_type": "code",
   "execution_count": null,
   "metadata": {
    "execution": {
     "iopub.execute_input": "2024-12-07T03:26:06.290123Z",
     "iopub.status.busy": "2024-12-07T03:26:06.289361Z"
    },
    "trusted": true
   },
   "outputs": [],
   "source": [
    "train(\n",
    "    model=model,\n",
    "    device=device,\n",
    "    num_epochs=num_epochs,\n",
    "    train_loader=train_loader,\n",
    "    criterion=criterion,\n",
    "    optimizer=optimizer,\n",
    "    valid_loader=valid_loader,\n",
    "    patience=patience,\n",
    ")"
   ]
  },
  {
   "cell_type": "code",
   "execution_count": null,
   "metadata": {
    "trusted": true
   },
   "outputs": [],
   "source": [
    "best_model = ResNet(layers=[2, 2, 2, 2]).to(device)\n",
    "best_model.load_state_dict(torch.load(\"best_model.pth\", weights_only=True))"
   ]
  },
  {
   "cell_type": "code",
   "execution_count": null,
   "metadata": {
    "trusted": true
   },
   "outputs": [],
   "source": [
    "evaluate(\n",
    "    model=model,\n",
    "    test_loader=test_loader,\n",
    "    device=device,\n",
    ")"
   ]
  }
 ],
 "metadata": {
  "kaggle": {
   "accelerator": "gpu",
   "dataSources": [
    {
     "datasetId": 487456,
     "sourceId": 1300891,
     "sourceType": "datasetVersion"
    }
   ],
   "dockerImageVersionId": 30804,
   "isGpuEnabled": true,
   "isInternetEnabled": true,
   "language": "python",
   "sourceType": "notebook"
  },
  "kernelspec": {
   "display_name": ".venv",
   "language": "python",
   "name": "python3"
  },
  "language_info": {
   "codemirror_mode": {
    "name": "ipython",
    "version": 3
   },
   "file_extension": ".py",
   "mimetype": "text/x-python",
   "name": "python",
   "nbconvert_exporter": "python",
   "pygments_lexer": "ipython3",
   "version": "3.11.4"
  }
 },
 "nbformat": 4,
 "nbformat_minor": 4
}
